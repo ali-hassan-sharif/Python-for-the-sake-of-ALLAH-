{
  "nbformat": 4,
  "nbformat_minor": 0,
  "metadata": {
    "colab": {
      "provenance": [],
      "toc_visible": true,
      "authorship_tag": "ABX9TyNwRjsUOgy/19XvBz5oBtOW",
      "include_colab_link": true
    },
    "kernelspec": {
      "name": "python3",
      "display_name": "Python 3"
    },
    "language_info": {
      "name": "python"
    }
  },
  "cells": [
    {
      "cell_type": "markdown",
      "metadata": {
        "id": "view-in-github",
        "colab_type": "text"
      },
      "source": [
        "<a href=\"https://colab.research.google.com/github/ali472462/Python-for-the-sake-of-ALLAH-/blob/main/Python_(_for_the_sake_of_ALLAH_).ipynb\" target=\"_parent\"><img src=\"https://colab.research.google.com/assets/colab-badge.svg\" alt=\"Open In Colab\"/></a>"
      ]
    },
    {
      "cell_type": "markdown",
      "source": [],
      "metadata": {
        "id": "qpraS4iRGkAg"
      }
    },
    {
      "cell_type": "markdown",
      "source": [
        "# **Welcome to the Python Programming Resource!**\n",
        "\n",
        "This Colab notebook is designed to provide you with a comprehensive introduction to Python programming. Throughout this notebook, you'll find:\n",
        "\n",
        "* **Clear explanations** of key Python concepts\n",
        "* **Practical examples** to illustrate how to use Python in real-world scenarios\n",
        "* **Exercises** to help you practice and reinforce your learning\n",
        "\n",
        "## **Getting Started:**\n",
        "\n",
        "1. **Create a copy:** Make a copy of this notebook to your Google Drive so you can edit and save your work.\n",
        "2. **Run the cells:** Click on a cell to select it, then press **Shift+Enter** to run the code or execute the text.\n",
        "3. **Experiment:** Feel free to modify the code and try different approaches to explore Python's capabilities.\n",
        "\n",
        "## **Let's begin our Python journey together!**\n",
        "\n",
        "**Note:** This notebook is intended for beginners and assumes no prior programming experience. If you have any questions or encounter difficulties, feel free to ask for help in community group."
      ],
      "metadata": {
        "id": "NLqPJJN0GzMe"
      }
    },
    {
      "cell_type": "markdown",
      "source": [
        "# **INDEX**\n",
        "\n",
        "* Syntax\n",
        "* Data Types\n",
        "* Indexing\n",
        "* Control Structures\n",
        "* Operators\n",
        "* Functions\n",
        "* Error and Exception Handling\n",
        "* Object-Oriented Programming\n",
        "* File Handling\n",
        "* Reading CSV and LXML Files\n",
        "* OS and Subprocess Module\n",
        "* Threading\n",
        "* Request Module\n",
        "* Introspection Module\n",
        "* Testing, Debugging, and C Profiling\n",
        "* ConfigParser Module\n",
        "* NumPy Module"
      ],
      "metadata": {
        "id": "UfDehHmwIKQe"
      }
    },
    {
      "cell_type": "markdown",
      "source": [
        "# **SYNTAX**"
      ],
      "metadata": {
        "id": "XnNoTrPQWz--"
      }
    },
    {
      "cell_type": "markdown",
      "source": [
        "\n",
        "\n",
        "### **Python Indentation**\n",
        "\n",
        "1. Indentation is used to define the structure of code blocks. For example, in control structures like `if`, `for`, `while`, or function definitions, all the lines within the block must be indented at the same level.\n",
        "\n",
        "2. Improper indentation can lead to `IndentationError`, which occurs when Python expects an indented block but finds none, or when indentation is not consistent.\n",
        "\n",
        "3. Python does not use braces `{}` or `end` statements to close blocks of code. The level of indentation determines when a block starts and ends.\n",
        "\n",
        "**Examples:**\n",
        "\n",
        "**Correct statement:**"
      ],
      "metadata": {
        "id": "0YREd_zxIfrt"
      }
    },
    {
      "cell_type": "code",
      "source": [
        "if 5 > 2:\n",
        "   print(\"5 is greater than 2\")"
      ],
      "metadata": {
        "colab": {
          "base_uri": "https://localhost:8080/"
        },
        "id": "_Ss3lO_oGu7U",
        "outputId": "87128c45-1741-465b-9a35-5a623549ab4c"
      },
      "execution_count": 6,
      "outputs": [
        {
          "output_type": "stream",
          "name": "stdout",
          "text": [
            "5 is greater than 2\n"
          ]
        }
      ]
    },
    {
      "cell_type": "markdown",
      "source": [
        "**Incorrect statement:**"
      ],
      "metadata": {
        "id": "ygCEmbEUJL7F"
      }
    },
    {
      "cell_type": "code",
      "source": [
        "# As code generates error so you can uncomment the code be removing \"#\" and check\n",
        "\n",
        "# if 5 > 2:\n",
        "# print(\"5 is greater than 2\")"
      ],
      "metadata": {
        "id": "lU7-dsPjJIjf"
      },
      "execution_count": 7,
      "outputs": []
    },
    {
      "cell_type": "markdown",
      "source": [
        "### **Comments in Python**\n",
        "\n",
        "1. Comments are used to explain and annotate your code. They are especially helpful for making your code more understandable to others (or to yourself when revisiting code later).\n",
        "\n",
        "2. Python uses the `#` symbol for single-line comments. Anything following the `#` on that line will be ignored by the Python interpreter.\n",
        "\n",
        "3. Python does not have a specific syntax for multi-line comments like some other languages. Instead, you can use multiple single-line comments.\n",
        "\n",
        "**Examples:**\n",
        "\n"
      ],
      "metadata": {
        "id": "cAI4cwXhJ6uL"
      }
    },
    {
      "cell_type": "code",
      "source": [
        "# This is a single-line comment\n",
        "\n",
        "# You can also comment at the end of a line:\n",
        "x = 5  # This is a variable assignment\n",
        "\n",
        "# Multiple lines can be commented out individually:\n",
        "# print(\"This line will not be executed\")\n",
        "# print(\"Neither will this line\")"
      ],
      "metadata": {
        "id": "Hfte3qGyJ7f-"
      },
      "execution_count": 8,
      "outputs": []
    },
    {
      "cell_type": "markdown",
      "source": [
        "### **Basic Assignment in Python**\n",
        "\n",
        "1. The `=` symbol is the assignment operator in Python. It assigns the value on the right side to the variable on the left side.\n",
        "\n",
        "2. You can assign values to multiple variables simultaneously in a single line.\n",
        "\n",
        "3. A single value can be assigned to multiple variables simultaneously using chained assignment.\n",
        "\n",
        "4. Python allows swapping of variable values without needing a temporary variable.\n",
        "\n",
        "5. In Python, variables can be reassigned to values of different types. The type of the variable is determined by the value assigned to it.\n",
        "\n",
        "**Examples:**\n",
        "\n",
        "**Single assignment:**\n",
        "\n",
        "\n"
      ],
      "metadata": {
        "id": "C2ROtg7bT04H"
      }
    },
    {
      "cell_type": "markdown",
      "source": [
        "**Multiple assignments:**"
      ],
      "metadata": {
        "id": "DS2LQ2CdUkNE"
      }
    },
    {
      "cell_type": "markdown",
      "source": [
        "**Chained assignment:**"
      ],
      "metadata": {
        "id": "w1HblDhYUrsT"
      }
    },
    {
      "cell_type": "markdown",
      "source": [
        "Swapping variables:"
      ],
      "metadata": {
        "id": "OIEm7ib3Uyv9"
      }
    },
    {
      "cell_type": "code",
      "source": [
        "# Single assignment\n",
        "x = 10  # Assigns the value 10 to the variable x\n",
        "\n",
        "# Multiple assignments\n",
        "x, y = 5, 10  # Assigns 5 to x and 10 to y\n",
        "\n",
        "# Chained assignment\n",
        "a = b = c = 20  # Assigns 20 to all three variables\n",
        "\n",
        "# Swapping variables\n",
        "a, b = b, a  # Swaps the values of a and b\n",
        "\n",
        "# Reassignment with different types\n",
        "x = 10  # x is an integer\n",
        "x = \"Hello\"  # x is now a string"
      ],
      "metadata": {
        "id": "1D0zGYmMU3xG"
      },
      "execution_count": 9,
      "outputs": []
    },
    {
      "cell_type": "markdown",
      "source": [
        "Dynamic typing:"
      ],
      "metadata": {
        "id": "9zncnN4fVBzj"
      }
    },
    {
      "cell_type": "code",
      "source": [
        "x = 10 #x is an integer\n",
        "x = \"Asalamualikum\"\n",
        "#Now x is a string"
      ],
      "metadata": {
        "id": "7rX37HsfVDhE"
      },
      "execution_count": 10,
      "outputs": []
    },
    {
      "cell_type": "markdown",
      "source": [
        "### **Variables in Python**\n",
        "\n",
        "**Definition:**\n",
        "\n",
        "* A variable in Python is a symbolic name that refers to an object or value. It acts as a placeholder to store data that can be used and manipulated throughout your code.\n",
        "\n",
        "**Naming Conventions:**\n",
        "\n",
        "* Must start with a letter (a-z, A-Z) or an underscore (_).\n",
        "* Can contain letters, digits (0-9), and underscores.\n",
        "* Should not contain spaces or start with a digit.\n",
        "* Should not use Python reserved keywords (e.g., `if`, `for`, `while`).\n",
        "\n",
        "**Case Sensitivity:**\n",
        "\n",
        "* Python variable names are case-sensitive, meaning `Ahmad` and `ahmad` are considered different variables.\n",
        "\n",
        "**Scope:**\n",
        "\n",
        "* **Global Variables:** Defined outside functions, accessible throughout the code.\n",
        "* **Local Variables:** Defined inside functions, accessible only within that function.\n",
        "\n",
        "**Examples:**\n"
      ],
      "metadata": {
        "id": "L5zg6IjiWItS"
      }
    },
    {
      "cell_type": "code",
      "source": [
        "# Global variable\n",
        "global_var = \"I am global\"\n",
        "\n",
        "def my_function():\n",
        "    # Local variable\n",
        "    local_var = \"I am local\"\n",
        "    return local_var"
      ],
      "metadata": {
        "id": "ss1Tu7iAZyks"
      },
      "execution_count": 11,
      "outputs": []
    },
    {
      "cell_type": "markdown",
      "source": [
        "Example Usage:\n",
        "\n"
      ],
      "metadata": {
        "id": "DwBj65cbaFG_"
      }
    },
    {
      "cell_type": "code",
      "source": [
        "print(global_var)  # Output: I am global\n",
        "result = my_function()\n",
        "print(result)  # Output: I am local"
      ],
      "metadata": {
        "colab": {
          "base_uri": "https://localhost:8080/"
        },
        "id": "DaAS4MYHaMK6",
        "outputId": "6a7ae466-9b32-4182-b988-f3557801380e"
      },
      "execution_count": 12,
      "outputs": [
        {
          "output_type": "stream",
          "name": "stdout",
          "text": [
            "I am global\n",
            "I am local\n"
          ]
        }
      ]
    },
    {
      "cell_type": "markdown",
      "source": [
        "### **PEMDAS**\n",
        "\n",
        "* **Parentheses:** Operations inside parentheses () are performed first.\n",
        "* **Exponents:** Next, Python evaluates exponents (powers and roots).\n",
        "* **Multiplication and Division:** Multiplication * and Division / are performed next, from left to right.\n",
        "* **Addition and Subtraction:** Finally, Addition + and Subtraction - are done, from left to right.\n",
        "* **Left-to-Right Associativity:** For operators at the same precedence level (like multiplication and division), Python evaluates them from left to right.\n",
        "\n",
        "**Examples:**\n",
        "\n",
        "**For Multiplication and Division:**\n"
      ],
      "metadata": {
        "id": "wLprcnVBamU5"
      }
    },
    {
      "cell_type": "code",
      "source": [
        "result = 6 * 2 / 3\n",
        "print(result)  # Output: 4"
      ],
      "metadata": {
        "colab": {
          "base_uri": "https://localhost:8080/"
        },
        "id": "DkGm9XJlaxEG",
        "outputId": "c091736d-22a0-4df6-c5b6-53f3740a05fb"
      },
      "execution_count": 13,
      "outputs": [
        {
          "output_type": "stream",
          "name": "stdout",
          "text": [
            "4.0\n"
          ]
        }
      ]
    },
    {
      "cell_type": "markdown",
      "source": [
        "For Addition and Subtraction:"
      ],
      "metadata": {
        "id": "AAzg7h9wa2GI"
      }
    },
    {
      "cell_type": "code",
      "source": [
        "result = 10 - 2 + 5\n",
        "print(result)  # Output: 13"
      ],
      "metadata": {
        "colab": {
          "base_uri": "https://localhost:8080/"
        },
        "id": "LAJI0FT4a3FI",
        "outputId": "c5c2d90a-4f46-438e-8ac9-0e4d55618de1"
      },
      "execution_count": 14,
      "outputs": [
        {
          "output_type": "stream",
          "name": "stdout",
          "text": [
            "13\n"
          ]
        }
      ]
    },
    {
      "cell_type": "markdown",
      "source": [
        "# **DATA TYPES**\n",
        "\n",
        "* **Numerical Types:**\n",
        "    * `int`: Integers (e.g., 10, -5, 0)\n",
        "    * `float`: Floating-point numbers (e.g., 3.14, -2.5)\n",
        "    * `complex`: Complex numbers (e.g., 2+3j)\n",
        "\n",
        "* **Boolean Type:**\n",
        "    * `bool`: True or False values\n",
        "\n",
        "* **String Type:**\n",
        "    * `str`: Sequences of characters (e.g., \"Hello\", \"world\")\n",
        "\n",
        "* **Sequence Types:**\n",
        "    * `list`: Ordered collections of elements (e.g., [1, 2, 3])\n",
        "    * `tuple`: Immutable ordered collections (e.g., (1, 2, 3))\n",
        "    * `range`: Sequences of numbers (e.g., range(5))\n",
        "\n",
        "* **Mapping Type:**\n",
        "    * `dict`: Unordered key-value pairs (e.g., {\"name\": \"Alice\", \"age\": 25})\n",
        "\n",
        "* **Set Types:**\n",
        "    * `set`: Unordered collections of unique elements (e.g., {1, 2, 3})\n",
        "    * `frozenset`: Immutable sets (e.g., frozenset([1, 2, 3]))"
      ],
      "metadata": {
        "id": "dYlO31DQYNhp"
      }
    },
    {
      "cell_type": "markdown",
      "source": [
        "#### Numerical Types:"
      ],
      "metadata": {
        "id": "n-2LlWAAYxVt"
      }
    },
    {
      "cell_type": "code",
      "source": [
        "# Integer\n",
        "age = 25\n",
        "print(type(age))  # Output: <class 'int'>\n",
        "\n",
        "# Float\n",
        "pi = 3.14159\n",
        "print(type(pi))  # Output: <class 'float'>\n",
        "\n",
        "# Complex\n",
        "complex_number = 2 + 3j\n",
        "print(type(complex_number))  # Output: <class 'complex'>"
      ],
      "metadata": {
        "colab": {
          "base_uri": "https://localhost:8080/"
        },
        "id": "DfnMWHpBYzo8",
        "outputId": "a24e2f22-50cc-40f5-914a-e2783534bf60"
      },
      "execution_count": 15,
      "outputs": [
        {
          "output_type": "stream",
          "name": "stdout",
          "text": [
            "<class 'int'>\n",
            "<class 'float'>\n",
            "<class 'complex'>\n"
          ]
        }
      ]
    },
    {
      "cell_type": "markdown",
      "source": [
        "#### Boolean Type:"
      ],
      "metadata": {
        "id": "c3jMD85VY4r0"
      }
    },
    {
      "cell_type": "code",
      "source": [
        "is_student = True\n",
        "print(type(is_student))  # Output: <class 'bool'>"
      ],
      "metadata": {
        "colab": {
          "base_uri": "https://localhost:8080/"
        },
        "id": "mvH6FmPcY7it",
        "outputId": "3fcd8e7e-f0f1-4067-8890-3bbe1792730c"
      },
      "execution_count": 16,
      "outputs": [
        {
          "output_type": "stream",
          "name": "stdout",
          "text": [
            "<class 'bool'>\n"
          ]
        }
      ]
    },
    {
      "cell_type": "markdown",
      "source": [
        "#### String Type:"
      ],
      "metadata": {
        "id": "QSKypYj7Y8-s"
      }
    },
    {
      "cell_type": "code",
      "source": [
        "name = \"Alice\"\n",
        "message = \"Hello, world!\"\n",
        "print(type(name))  # Output: <class 'str'>\n",
        "print(type(message))  # Output: <class 'str'>"
      ],
      "metadata": {
        "colab": {
          "base_uri": "https://localhost:8080/"
        },
        "id": "GOc5rV7HZBpn",
        "outputId": "03e40b63-3551-4278-eb4d-de3508031ee2"
      },
      "execution_count": 17,
      "outputs": [
        {
          "output_type": "stream",
          "name": "stdout",
          "text": [
            "<class 'str'>\n",
            "<class 'str'>\n"
          ]
        }
      ]
    },
    {
      "cell_type": "markdown",
      "source": [
        "#### Sequence Types:"
      ],
      "metadata": {
        "id": "HxCYVpOmZGmb"
      }
    },
    {
      "cell_type": "code",
      "source": [
        "numbers = [1, 2, 3, 4, 5]\n",
        "print(type(numbers))  # Output: <class 'list'>\n",
        "\n",
        "tuple = (1, 2, 3)\n",
        "print(type(tuple))  # Output: <class 'tuple'>\n",
        "\n",
        "range_obj = range(5)\n",
        "print(type(range_obj))  # Output: <class 'range'>"
      ],
      "metadata": {
        "colab": {
          "base_uri": "https://localhost:8080/"
        },
        "id": "CCp4Yol0ZJps",
        "outputId": "c47771f5-174c-4ba7-ddec-9dbbfcdc4a03"
      },
      "execution_count": 18,
      "outputs": [
        {
          "output_type": "stream",
          "name": "stdout",
          "text": [
            "<class 'list'>\n",
            "<class 'tuple'>\n",
            "<class 'range'>\n"
          ]
        }
      ]
    },
    {
      "cell_type": "markdown",
      "source": [
        "#### Mapping Type:"
      ],
      "metadata": {
        "id": "owvK-8jTZOgD"
      }
    },
    {
      "cell_type": "code",
      "source": [
        "person = {\"name\": \"Alice\", \"age\": 25, \"city\": \"New York\"}\n",
        "print(type(person))  # Output: <class 'dict'>"
      ],
      "metadata": {
        "colab": {
          "base_uri": "https://localhost:8080/"
        },
        "id": "vaFbwvujZOJr",
        "outputId": "58041176-b030-40a3-a2a2-9af294bb232e"
      },
      "execution_count": 19,
      "outputs": [
        {
          "output_type": "stream",
          "name": "stdout",
          "text": [
            "<class 'dict'>\n"
          ]
        }
      ]
    },
    {
      "cell_type": "markdown",
      "source": [
        "#### Set Types:"
      ],
      "metadata": {
        "id": "LULIBt9OZSj7"
      }
    },
    {
      "cell_type": "code",
      "source": [
        "set = {1, 2, 3}\n",
        "print(type(set))  # Output: <class 'set'>\n",
        "\n",
        "frozenset = frozenset([1, 2, 3])\n",
        "print(type(frozenset))  # Output: <class 'frozenset'>"
      ],
      "metadata": {
        "colab": {
          "base_uri": "https://localhost:8080/"
        },
        "id": "L5SylqsvZOF8",
        "outputId": "8955cffe-8b15-4548-a1e1-415346b9f7cd"
      },
      "execution_count": 20,
      "outputs": [
        {
          "output_type": "stream",
          "name": "stdout",
          "text": [
            "<class 'set'>\n",
            "<class 'frozenset'>\n"
          ]
        }
      ]
    },
    {
      "cell_type": "markdown",
      "source": [
        "### **Binary Types in Python**\n",
        "\n",
        "Python provides three built-in data types for working with binary data:\n",
        "\n",
        "1. **bytes:** Immutable sequence of bytes (8-bit values). Each element in a bytes object is an integer in the range [0, 255].\n",
        "2. **bytearray:** Mutable sequence of bytes (8-bit values). Similar to bytes, but elements can be modified.\n",
        "3. **memoryview:** A view into a contiguous block of memory, providing efficient access to binary data.\n",
        "\n",
        "**Key Points:**\n",
        "\n",
        "* **Creation:**\n",
        "    - `bytes`: Create using a sequence of integers or a string prefixed with `b`.\n",
        "    - `bytearray`: Create using a sequence of integers or a string prefixed with `b`.\n",
        "    - `memoryview`: Create using a `bytes` or `bytearray` object.\n",
        "* **Operations:**\n",
        "    - Slicing, indexing, concatenation, repetition, and other sequence operations.\n",
        "    - Conversion to and from other data types (e.g., strings, integers).\n",
        "* **Usage:**\n",
        "    - Working with binary files\n",
        "    - Network communication\n",
        "    - Low-level data manipulation\n",
        "\n",
        "**Example:**\n",
        "\n"
      ],
      "metadata": {
        "id": "hvy4wsx6b92Y"
      }
    },
    {
      "cell_type": "code",
      "source": [
        "\n",
        "# Creating bytes and bytearray objects\n",
        "byte_data = b\"Hello, world!\"\n",
        "bytearray_data = bytearray(b\"Hello, world!\")\n",
        "\n",
        "# Accessing elements\n",
        "print(byte_data[0])  # Output: 72 (ASCII code for 'H')\n",
        "print(bytearray_data[0])  # Output: 72 (ASCII code for 'H')\n",
        "\n",
        "# Modifying bytearray\n",
        "bytearray_data[0] = 75\n",
        "print(bytearray_data)  # Output: b'Kello, world!'\n",
        "\n",
        "# Creating a memoryview\n",
        "memory_view = memoryview(byte_data)\n",
        "print(memory_view[0])  # Output: 72 (ASCII code for 'H')"
      ],
      "metadata": {
        "colab": {
          "base_uri": "https://localhost:8080/"
        },
        "id": "d2HIG5HjcIzU",
        "outputId": "4cb04182-1d47-40ef-90ef-bd7032158886"
      },
      "execution_count": 21,
      "outputs": [
        {
          "output_type": "stream",
          "name": "stdout",
          "text": [
            "72\n",
            "72\n",
            "bytearray(b'Kello, world!')\n",
            "72\n"
          ]
        }
      ]
    },
    {
      "cell_type": "markdown",
      "source": [
        "### **Mutable Data Types**\n",
        "From the above mentioned datatypes we have 4 mutable data types the rest of the mentioned data types are immutable. Below are those `4 mutable data types`:\n",
        "\n",
        "- List\n",
        "- Set\n",
        "- Dictionary\n",
        "- Bytearray\n"
      ],
      "metadata": {
        "id": "lgHSYR09cQ0W"
      }
    },
    {
      "cell_type": "markdown",
      "source": [],
      "metadata": {
        "id": "-t7byuZri8Xf"
      }
    },
    {
      "cell_type": "markdown",
      "source": [
        "# **SLICING**\n",
        "\n",
        "Slicing is a technique used to access a range of elements from a sequence like a list, tuple, string, or even arrays in libraries like NumPy. Slicing is done using the colon (:) operator inside square brackets.\n",
        "\n",
        "\n"
      ],
      "metadata": {
        "id": "W4z6srXIgrwB"
      }
    },
    {
      "cell_type": "markdown",
      "source": [
        "### **Basic Syntax of Slicing:**\n",
        "```python```\n",
        "\n",
        "sequence [start:stop:step]"
      ],
      "metadata": {
        "id": "3R72Wgy3gwfA"
      }
    },
    {
      "cell_type": "markdown",
      "source": [
        "```start:``` The index where the slice starts (inclusive).\n",
        "\n",
        "```stop:``` The index where the slice ends (exclusive).\n",
        "\n",
        "```step:``` The interval between elements in the slice (optional).\n",
        "\n",
        "Examples:\n",
        "\n"
      ],
      "metadata": {
        "id": "Kt4m2gVRhKAQ"
      }
    },
    {
      "cell_type": "markdown",
      "source": [
        "### 1. Slice with Only Start and Stop:"
      ],
      "metadata": {
        "id": "z7ovPhCRjDPr"
      }
    },
    {
      "cell_type": "code",
      "source": [
        "my_list = [10, 20, 30, 40, 50, 60, 70]\n",
        "\n",
        "sub_list = my_list[1:4]\n",
        "print(sub_list)  # Output: [20, 30, 40]"
      ],
      "metadata": {
        "colab": {
          "base_uri": "https://localhost:8080/"
        },
        "id": "7U25rqq2hJOc",
        "outputId": "10063c46-daa3-40bf-da77-aad98b42cc4a"
      },
      "execution_count": 22,
      "outputs": [
        {
          "output_type": "stream",
          "name": "stdout",
          "text": [
            "[20, 30, 40]\n"
          ]
        }
      ]
    },
    {
      "cell_type": "markdown",
      "source": [
        "### 2. Slice with Only Start:"
      ],
      "metadata": {
        "id": "iGrgdID3h1FJ"
      }
    },
    {
      "cell_type": "code",
      "source": [
        "sub_list = my_list[2:]\n",
        "print(sub_list)  # Output: [30, 40, 50, 60, 70]"
      ],
      "metadata": {
        "id": "vGe0Tx7Th2t-",
        "colab": {
          "base_uri": "https://localhost:8080/"
        },
        "outputId": "f9b9bc77-ebb0-4ac7-ef48-3744b49d9f0a"
      },
      "execution_count": 23,
      "outputs": [
        {
          "output_type": "stream",
          "name": "stdout",
          "text": [
            "[30, 40, 50, 60, 70]\n"
          ]
        }
      ]
    },
    {
      "cell_type": "markdown",
      "source": [
        "### 3. Slice with Only Stop:"
      ],
      "metadata": {
        "id": "zv7QYbr9h4qY"
      }
    },
    {
      "cell_type": "code",
      "source": [
        "sub_list = my_list[:4]\n",
        "print(sub_list)  # Output: [10, 20, 30, 40]"
      ],
      "metadata": {
        "id": "LLeeoZSbh7CC",
        "colab": {
          "base_uri": "https://localhost:8080/"
        },
        "outputId": "05abb22d-d077-4649-f171-ee2500c8265d"
      },
      "execution_count": 24,
      "outputs": [
        {
          "output_type": "stream",
          "name": "stdout",
          "text": [
            "[10, 20, 30, 40]\n"
          ]
        }
      ]
    },
    {
      "cell_type": "markdown",
      "source": [
        "### 4. Slice with Start, Stop, and Step:"
      ],
      "metadata": {
        "id": "VLO2-xg2h8TZ"
      }
    },
    {
      "cell_type": "code",
      "source": [
        "sub_list = my_list[1:6:2]\n",
        "print(sub_list)  # Output: [20, 40, 60]"
      ],
      "metadata": {
        "id": "H6mq47pBh_X9",
        "colab": {
          "base_uri": "https://localhost:8080/"
        },
        "outputId": "1174d521-9fcc-4918-c397-14b39ba29217"
      },
      "execution_count": 25,
      "outputs": [
        {
          "output_type": "stream",
          "name": "stdout",
          "text": [
            "[20, 40, 60]\n"
          ]
        }
      ]
    },
    {
      "cell_type": "markdown",
      "source": [
        "### 5. Slice with Start and Step, but without Stop:"
      ],
      "metadata": {
        "id": "hlU-3X9CiADb"
      }
    },
    {
      "cell_type": "code",
      "source": [
        "sub_list = my_list[1::2]\n",
        "print(sub_list)  # Output: [20, 40, 60]"
      ],
      "metadata": {
        "id": "YBE2YGQ3iCAq",
        "colab": {
          "base_uri": "https://localhost:8080/"
        },
        "outputId": "a9c48129-4beb-4dae-9d08-d37cbeb5914c"
      },
      "execution_count": 26,
      "outputs": [
        {
          "output_type": "stream",
          "name": "stdout",
          "text": [
            "[20, 40, 60]\n"
          ]
        }
      ]
    },
    {
      "cell_type": "markdown",
      "source": [
        "### 6. Slice without Start and Stop but with Step:"
      ],
      "metadata": {
        "id": "yVLj9h52iE3u"
      }
    },
    {
      "cell_type": "code",
      "source": [
        "result = my_list[::2]\n",
        "print(result)  # Output: [10, 30, 50, 70]"
      ],
      "metadata": {
        "id": "f80kKNGfiHRs",
        "colab": {
          "base_uri": "https://localhost:8080/"
        },
        "outputId": "00a29254-93a3-48f8-ddeb-4ff01c0b7abf"
      },
      "execution_count": 27,
      "outputs": [
        {
          "output_type": "stream",
          "name": "stdout",
          "text": [
            "[10, 30, 50, 70]\n"
          ]
        }
      ]
    },
    {
      "cell_type": "markdown",
      "source": [
        "# **INDEXING**"
      ],
      "metadata": {
        "id": "1clGQIL3eXSf"
      }
    },
    {
      "cell_type": "markdown",
      "source": [
        "\n",
        "## **Zero-based Indexing**\n",
        "\n",
        "* The first element in any sequence (like a list, tuple, or string) is accessed with index 0. This means that the second element of a list/tuple/string will be accessed using 1.\n",
        "\n",
        "**Example:**\n",
        "\n"
      ],
      "metadata": {
        "id": "dsZbKPf7geR4"
      }
    },
    {
      "cell_type": "code",
      "source": [
        "my_list = [10, 20, 30, 40, 50]\n",
        "print(my_list[0])  # Output: 10\n",
        "print(my_list[2])  # Output: 30\n",
        "print(my_list[1])  # Output: 20"
      ],
      "metadata": {
        "colab": {
          "base_uri": "https://localhost:8080/"
        },
        "id": "I-nYWIGUeY2j",
        "outputId": "0894c506-a6c4-433f-ef3d-3f1cd4719ae3"
      },
      "execution_count": 28,
      "outputs": [
        {
          "output_type": "stream",
          "name": "stdout",
          "text": [
            "10\n",
            "30\n",
            "20\n"
          ]
        }
      ]
    },
    {
      "cell_type": "markdown",
      "source": [
        "**Start Index is Inclusive and Stop Index is Exclusive**\n",
        "\n",
        "- The start index is included in the slice, while the stop index is excluded.\n",
        "\n",
        "\n",
        "Example:"
      ],
      "metadata": {
        "id": "U0mBVp62eow7"
      }
    },
    {
      "cell_type": "code",
      "source": [
        "my_list = [10, 20, 30, 40, 50]\n",
        "\n",
        "print(my_list[1:4])  # Output: [20, 30, 40]\n",
        "print(my_list[1:5])  # Output: [20, 30, 40, 50]"
      ],
      "metadata": {
        "colab": {
          "base_uri": "https://localhost:8080/"
        },
        "id": "B_LEjCguf4hl",
        "outputId": "f2f165b5-f16a-42a7-b5ea-a002f7cd94f6"
      },
      "execution_count": 29,
      "outputs": [
        {
          "output_type": "stream",
          "name": "stdout",
          "text": [
            "[20, 30, 40]\n",
            "[20, 30, 40, 50]\n"
          ]
        }
      ]
    },
    {
      "cell_type": "markdown",
      "source": [
        "## **Negative Indexing**\n",
        "\n",
        "Negative indexing is a powerful feature in Python that allows you to access elements starting from the end of a sequence rather than the beginning. This is particularly useful when you need to reference elements relative to the end of a sequence.\n",
        "\n",
        "\n",
        "\n",
        "\n",
        "\n",
        "\n",
        "\n",
        "\n",
        "\n",
        "\n",
        "\n",
        "\n",
        "\n",
        "\n",
        "# Reversing the list\n",
        "reversed_list = my_list[::-1]\n",
        "print(reversed_list)  # Output: [70, 60, 50, 40, 30, 20, 10]"
      ],
      "metadata": {
        "id": "9GlVi8dnj0mC"
      }
    },
    {
      "cell_type": "markdown",
      "source": [
        "\n",
        "### **The last element:**\n",
        "    - `-1` refers to the last element in a sequence.\n"
      ],
      "metadata": {
        "id": "6079iUNjj9tK"
      }
    },
    {
      "cell_type": "code",
      "source": [
        "my_list = [10, 20, 30, 40, 50]\n",
        "# Accessing the last element\n",
        "print(my_list[-1])  # Output: 50"
      ],
      "metadata": {
        "colab": {
          "base_uri": "https://localhost:8080/"
        },
        "id": "Gz6zVcuckPz4",
        "outputId": "86d4015a-63b3-4c6d-8a3e-e60aa47e5832"
      },
      "execution_count": 30,
      "outputs": [
        {
          "output_type": "stream",
          "name": "stdout",
          "text": [
            "50\n"
          ]
        }
      ]
    },
    {
      "cell_type": "markdown",
      "source": [
        "### **The second-to-last element:**\n",
        "    - `-2` refers to the second-to-last element, and so on."
      ],
      "metadata": {
        "id": "DHtMWf1wkeZH"
      }
    },
    {
      "cell_type": "code",
      "source": [
        "# Accessing the second-to-last element\n",
        "print(my_list[-2])  # Output: 40"
      ],
      "metadata": {
        "colab": {
          "base_uri": "https://localhost:8080/"
        },
        "id": "4kEg-cgekf0S",
        "outputId": "4331587e-7bcc-4d1c-f5cd-c078973b72e3"
      },
      "execution_count": 31,
      "outputs": [
        {
          "output_type": "stream",
          "name": "stdout",
          "text": [
            "40\n"
          ]
        }
      ]
    },
    {
      "cell_type": "markdown",
      "source": [
        "### **Negative Indexing in Slicing:**\n",
        "    - The rules for inclusive and exclusive indices apply similarly to negative indices.\n"
      ],
      "metadata": {
        "id": "u6RR_DgNkuj_"
      }
    },
    {
      "cell_type": "code",
      "source": [
        "# Slicing using negative indices\n",
        "print(my_list[-4:-1])  # Output: [20, 30, 40]"
      ],
      "metadata": {
        "colab": {
          "base_uri": "https://localhost:8080/"
        },
        "id": "TSOBTjmxkjj7",
        "outputId": "bc3c0fc6-4e88-48e1-f798-a57ad3c3f54e"
      },
      "execution_count": 32,
      "outputs": [
        {
          "output_type": "stream",
          "name": "stdout",
          "text": [
            "[20, 30, 40]\n"
          ]
        }
      ]
    },
    {
      "cell_type": "markdown",
      "source": [
        "### Including the last element:\n",
        "\n",
        "There are multiple ways of including the last element, but this is the basic one.\n"
      ],
      "metadata": {
        "id": "_cXnchimlDjM"
      }
    },
    {
      "cell_type": "code",
      "source": [
        "# Including the last element\n",
        "print(my_list[-4:])  # Output: [20, 30, 40, 50]"
      ],
      "metadata": {
        "colab": {
          "base_uri": "https://localhost:8080/"
        },
        "id": "6XzZVe7clIEs",
        "outputId": "f39c67aa-a995-41f0-d87b-b77d0cd8af35"
      },
      "execution_count": 33,
      "outputs": [
        {
          "output_type": "stream",
          "name": "stdout",
          "text": [
            "[20, 30, 40, 50]\n"
          ]
        }
      ]
    },
    {
      "cell_type": "markdown",
      "source": [
        "\n",
        "The 4th element 50 is now included. To include the last element, use a number one time greater than the index position of the last element in the place of the stop index.\n",
        "\n",
        "If the index position of the last element is unknown, it can be found using the len() function, which returns the total number of elements. The index position will be one time lesser than the total number of elements because indexing starts from 0. Therefore, in the place of the stop index, we will simply put the output of the len() function because it is already one time greater than the index position of the last element.\n"
      ],
      "metadata": {
        "id": "8WI3Q4RmlyXE"
      }
    },
    {
      "cell_type": "code",
      "source": [
        "print(len(my_list))\n",
        "Output: 5"
      ],
      "metadata": {
        "colab": {
          "base_uri": "https://localhost:8080/"
        },
        "id": "eo27Yxtol0ZL",
        "outputId": "96f00c53-9f65-4945-fc7d-e3973a318fb5"
      },
      "execution_count": 34,
      "outputs": [
        {
          "output_type": "stream",
          "name": "stdout",
          "text": [
            "5\n"
          ]
        }
      ]
    },
    {
      "cell_type": "markdown",
      "source": [
        "### Reversing the list:\n",
        "\n",
        "Using ```[::-1]``` is a quick and efficient way to reverse the elements of a list or any sequence in Python.\n"
      ],
      "metadata": {
        "id": "pB_Nqx-GllV8"
      }
    },
    {
      "cell_type": "code",
      "source": [
        "# Reversing the list\n",
        "reversed_list = my_list[::-1]\n",
        "print(reversed_list)  # Output: [70, 60, 50, 40, 30, 20, 10]"
      ],
      "metadata": {
        "colab": {
          "base_uri": "https://localhost:8080/"
        },
        "id": "w2-wCD1Ele41",
        "outputId": "69d5efd6-f64e-4968-b74c-1895d2de8ddb"
      },
      "execution_count": 35,
      "outputs": [
        {
          "output_type": "stream",
          "name": "stdout",
          "text": [
            "[50, 40, 30, 20, 10]\n"
          ]
        }
      ]
    },
    {
      "cell_type": "markdown",
      "source": [
        "Here the start and stop index aren't specified, so they default to their initial positions. The slice starts from the last element ```(70)``` and moves backward through the list. It steps by -1, so it includes every element in reverse order."
      ],
      "metadata": {
        "id": "QQZ1xhk6l8Lj"
      }
    }
  ]
}