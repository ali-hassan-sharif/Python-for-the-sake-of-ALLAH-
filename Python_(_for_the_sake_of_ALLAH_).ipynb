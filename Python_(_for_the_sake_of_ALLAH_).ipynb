{
  "nbformat": 4,
  "nbformat_minor": 0,
  "metadata": {
    "colab": {
      "provenance": [],
      "authorship_tag": "ABX9TyPWIIcu3cKd33+e+nUeCIuS",
      "include_colab_link": true
    },
    "kernelspec": {
      "name": "python3",
      "display_name": "Python 3"
    },
    "language_info": {
      "name": "python"
    }
  },
  "cells": [
    {
      "cell_type": "markdown",
      "metadata": {
        "id": "view-in-github",
        "colab_type": "text"
      },
      "source": [
        "<a href=\"https://colab.research.google.com/github/ali472462/Python-for-the-sake-of-ALLAH-/blob/main/Python_(_for_the_sake_of_ALLAH_).ipynb\" target=\"_parent\"><img src=\"https://colab.research.google.com/assets/colab-badge.svg\" alt=\"Open In Colab\"/></a>"
      ]
    },
    {
      "cell_type": "markdown",
      "source": [],
      "metadata": {
        "id": "qpraS4iRGkAg"
      }
    },
    {
      "cell_type": "markdown",
      "source": [
        "# **Welcome to the Python Programming Resource!**\n",
        "\n",
        "This Colab notebook is designed to provide you with a comprehensive introduction to Python programming. Throughout this notebook, you'll find:\n",
        "\n",
        "* **Clear explanations** of key Python concepts\n",
        "* **Practical examples** to illustrate how to use Python in real-world scenarios\n",
        "* **Exercises** to help you practice and reinforce your learning\n",
        "\n",
        "## **Getting Started:**\n",
        "\n",
        "1. **Create a copy:** Make a copy of this notebook to your Google Drive so you can edit and save your work.\n",
        "2. **Run the cells:** Click on a cell to select it, then press **Shift+Enter** to run the code or execute the text.\n",
        "3. **Experiment:** Feel free to modify the code and try different approaches to explore Python's capabilities.\n",
        "\n",
        "## **Let's begin our Python journey together!**\n",
        "\n",
        "**Note:** This notebook is intended for beginners and assumes no prior programming experience. If you have any questions or encounter difficulties, feel free to ask for help in community group."
      ],
      "metadata": {
        "id": "NLqPJJN0GzMe"
      }
    },
    {
      "cell_type": "markdown",
      "source": [
        "**Index**\n",
        "\n",
        "* Syntax\n",
        "* Data Types\n",
        "* Indexing\n",
        "* Control Structures\n",
        "* Operators\n",
        "* Functions\n",
        "* Error and Exception Handling\n",
        "* Object-Oriented Programming\n",
        "* File Handling\n",
        "* Reading CSV and LXML Files\n",
        "* OS and Subprocess Module\n",
        "* Threading\n",
        "* Request Module\n",
        "* Introspection Module\n",
        "* Testing, Debugging, and C Profiling\n",
        "* ConfigParser Module\n",
        "* NumPy Module"
      ],
      "metadata": {
        "id": "UfDehHmwIKQe"
      }
    },
    {
      "cell_type": "markdown",
      "source": [
        "**Syntax**\n",
        "\n",
        "### **Python Indentation**\n",
        "\n",
        "1. Indentation is used to define the structure of code blocks. For example, in control structures like `if`, `for`, `while`, or function definitions, all the lines within the block must be indented at the same level.\n",
        "\n",
        "2. Improper indentation can lead to `IndentationError`, which occurs when Python expects an indented block but finds none, or when indentation is not consistent.\n",
        "\n",
        "3. Python does not use braces `{}` or `end` statements to close blocks of code. The level of indentation determines when a block starts and ends.\n",
        "\n",
        "**Examples:**\n",
        "\n",
        "**Correct statement:**"
      ],
      "metadata": {
        "id": "0YREd_zxIfrt"
      }
    },
    {
      "cell_type": "code",
      "source": [
        "if 5 > 2:\n",
        "   print(\"5 is greater than 2\")"
      ],
      "metadata": {
        "colab": {
          "base_uri": "https://localhost:8080/"
        },
        "id": "_Ss3lO_oGu7U",
        "outputId": "837c27ef-089c-4b76-dbaa-bef2a8eb309a"
      },
      "execution_count": 3,
      "outputs": [
        {
          "output_type": "stream",
          "name": "stdout",
          "text": [
            "5 is greater than 2\n"
          ]
        }
      ]
    },
    {
      "cell_type": "markdown",
      "source": [
        "**Incorrect statement:**"
      ],
      "metadata": {
        "id": "ygCEmbEUJL7F"
      }
    },
    {
      "cell_type": "code",
      "source": [
        "# As code generates error so you can uncomment the code be removing \"#\" and check\n",
        "\n",
        "# if 5 > 2:\n",
        "# print(\"5 is greater than 2\")"
      ],
      "metadata": {
        "id": "lU7-dsPjJIjf"
      },
      "execution_count": 6,
      "outputs": []
    },
    {
      "cell_type": "markdown",
      "source": [
        "**Comments in Python**\n",
        "\n",
        "1. Comments are used to explain and annotate your code. They are especially helpful for making your code more understandable to others (or to yourself when revisiting code later).\n",
        "\n",
        "2. Python uses the `#` symbol for single-line comments. Anything following the `#` on that line will be ignored by the Python interpreter.\n",
        "\n",
        "3. Python does not have a specific syntax for multi-line comments like some other languages. Instead, you can use multiple single-line comments.\n",
        "\n",
        "**Examples:**\n",
        "\n"
      ],
      "metadata": {
        "id": "cAI4cwXhJ6uL"
      }
    },
    {
      "cell_type": "code",
      "source": [
        "# This is a single-line comment\n",
        "\n",
        "# You can also comment at the end of a line:\n",
        "x = 5  # This is a variable assignment\n",
        "\n",
        "# Multiple lines can be commented out individually:\n",
        "# print(\"This line will not be executed\")\n",
        "# print(\"Neither will this line\")"
      ],
      "metadata": {
        "id": "Hfte3qGyJ7f-"
      },
      "execution_count": 7,
      "outputs": []
    }
  ]
}