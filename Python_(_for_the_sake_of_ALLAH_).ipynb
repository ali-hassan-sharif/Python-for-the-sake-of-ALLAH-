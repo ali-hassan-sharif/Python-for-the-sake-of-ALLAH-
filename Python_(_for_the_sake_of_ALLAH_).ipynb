{
  "nbformat": 4,
  "nbformat_minor": 0,
  "metadata": {
    "colab": {
      "provenance": [],
      "toc_visible": true,
      "authorship_tag": "ABX9TyOD85AMv3iSw0NT5RNEpR7R",
      "include_colab_link": true
    },
    "kernelspec": {
      "name": "python3",
      "display_name": "Python 3"
    },
    "language_info": {
      "name": "python"
    }
  },
  "cells": [
    {
      "cell_type": "markdown",
      "metadata": {
        "id": "view-in-github",
        "colab_type": "text"
      },
      "source": [
        "<a href=\"https://colab.research.google.com/github/ali472462/Python-for-the-sake-of-ALLAH-/blob/main/Python_(_for_the_sake_of_ALLAH_).ipynb\" target=\"_parent\"><img src=\"https://colab.research.google.com/assets/colab-badge.svg\" alt=\"Open In Colab\"/></a>"
      ]
    },
    {
      "cell_type": "markdown",
      "source": [],
      "metadata": {
        "id": "qpraS4iRGkAg"
      }
    },
    {
      "cell_type": "markdown",
      "source": [
        "# **Welcome to the Python Programming Resource!**\n",
        "\n",
        "This Colab notebook is designed to provide you with a comprehensive introduction to Python programming. Throughout this notebook, you'll find:\n",
        "\n",
        "* **Clear explanations** of key Python concepts\n",
        "* **Practical examples** to illustrate how to use Python in real-world scenarios\n",
        "* **Exercises** to help you practice and reinforce your learning\n",
        "\n",
        "## **Getting Started:**\n",
        "\n",
        "1. **Create a copy:** Make a copy of this notebook to your Google Drive so you can edit and save your work.\n",
        "2. **Run the cells:** Click on a cell to select it, then press **Shift+Enter** to run the code or execute the text.\n",
        "3. **Experiment:** Feel free to modify the code and try different approaches to explore Python's capabilities.\n",
        "\n",
        "## **Let's begin our Python journey together!**\n",
        "\n",
        "**Note:** This notebook is intended for beginners and assumes no prior programming experience. If you have any questions or encounter difficulties, feel free to ask for help in community group."
      ],
      "metadata": {
        "id": "NLqPJJN0GzMe"
      }
    },
    {
      "cell_type": "markdown",
      "source": [
        "## **INDEX**\n",
        "\n",
        "* Syntax\n",
        "* Data Types\n",
        "* Indexing\n",
        "* Control Structures\n",
        "* Operators\n",
        "* Functions\n",
        "* Error and Exception Handling\n",
        "* Object-Oriented Programming\n",
        "* File Handling\n",
        "* Reading CSV and LXML Files\n",
        "* OS and Subprocess Module\n",
        "* Threading\n",
        "* Request Module\n",
        "* Introspection Module\n",
        "* Testing, Debugging, and C Profiling\n",
        "* ConfigParser Module\n",
        "* NumPy Module"
      ],
      "metadata": {
        "id": "UfDehHmwIKQe"
      }
    },
    {
      "cell_type": "markdown",
      "source": [
        "## **SYNTAX**"
      ],
      "metadata": {
        "id": "XnNoTrPQWz--"
      }
    },
    {
      "cell_type": "markdown",
      "source": [
        "\n",
        "\n",
        "### **Python Indentation**\n",
        "\n",
        "1. Indentation is used to define the structure of code blocks. For example, in control structures like `if`, `for`, `while`, or function definitions, all the lines within the block must be indented at the same level.\n",
        "\n",
        "2. Improper indentation can lead to `IndentationError`, which occurs when Python expects an indented block but finds none, or when indentation is not consistent.\n",
        "\n",
        "3. Python does not use braces `{}` or `end` statements to close blocks of code. The level of indentation determines when a block starts and ends.\n",
        "\n",
        "**Examples:**\n",
        "\n",
        "**Correct statement:**"
      ],
      "metadata": {
        "id": "0YREd_zxIfrt"
      }
    },
    {
      "cell_type": "code",
      "source": [
        "if 5 > 2:\n",
        "   print(\"5 is greater than 2\")"
      ],
      "metadata": {
        "colab": {
          "base_uri": "https://localhost:8080/"
        },
        "id": "_Ss3lO_oGu7U",
        "outputId": "837c27ef-089c-4b76-dbaa-bef2a8eb309a"
      },
      "execution_count": 3,
      "outputs": [
        {
          "output_type": "stream",
          "name": "stdout",
          "text": [
            "5 is greater than 2\n"
          ]
        }
      ]
    },
    {
      "cell_type": "markdown",
      "source": [
        "**Incorrect statement:**"
      ],
      "metadata": {
        "id": "ygCEmbEUJL7F"
      }
    },
    {
      "cell_type": "code",
      "source": [
        "# As code generates error so you can uncomment the code be removing \"#\" and check\n",
        "\n",
        "# if 5 > 2:\n",
        "# print(\"5 is greater than 2\")"
      ],
      "metadata": {
        "id": "lU7-dsPjJIjf"
      },
      "execution_count": 6,
      "outputs": []
    },
    {
      "cell_type": "markdown",
      "source": [
        "### **Comments in Python**\n",
        "\n",
        "1. Comments are used to explain and annotate your code. They are especially helpful for making your code more understandable to others (or to yourself when revisiting code later).\n",
        "\n",
        "2. Python uses the `#` symbol for single-line comments. Anything following the `#` on that line will be ignored by the Python interpreter.\n",
        "\n",
        "3. Python does not have a specific syntax for multi-line comments like some other languages. Instead, you can use multiple single-line comments.\n",
        "\n",
        "**Examples:**\n",
        "\n"
      ],
      "metadata": {
        "id": "cAI4cwXhJ6uL"
      }
    },
    {
      "cell_type": "code",
      "source": [
        "# This is a single-line comment\n",
        "\n",
        "# You can also comment at the end of a line:\n",
        "x = 5  # This is a variable assignment\n",
        "\n",
        "# Multiple lines can be commented out individually:\n",
        "# print(\"This line will not be executed\")\n",
        "# print(\"Neither will this line\")"
      ],
      "metadata": {
        "id": "Hfte3qGyJ7f-"
      },
      "execution_count": 7,
      "outputs": []
    },
    {
      "cell_type": "markdown",
      "source": [
        "### **Basic Assignment in Python**\n",
        "\n",
        "1. The `=` symbol is the assignment operator in Python. It assigns the value on the right side to the variable on the left side.\n",
        "\n",
        "2. You can assign values to multiple variables simultaneously in a single line.\n",
        "\n",
        "3. A single value can be assigned to multiple variables simultaneously using chained assignment.\n",
        "\n",
        "4. Python allows swapping of variable values without needing a temporary variable.\n",
        "\n",
        "5. In Python, variables can be reassigned to values of different types. The type of the variable is determined by the value assigned to it.\n",
        "\n",
        "**Examples:**\n",
        "\n",
        "**Single assignment:**\n",
        "\n",
        "\n"
      ],
      "metadata": {
        "id": "C2ROtg7bT04H"
      }
    },
    {
      "cell_type": "markdown",
      "source": [
        "**Multiple assignments:**"
      ],
      "metadata": {
        "id": "DS2LQ2CdUkNE"
      }
    },
    {
      "cell_type": "markdown",
      "source": [
        "**Chained assignment:**"
      ],
      "metadata": {
        "id": "w1HblDhYUrsT"
      }
    },
    {
      "cell_type": "markdown",
      "source": [
        "Swapping variables:"
      ],
      "metadata": {
        "id": "OIEm7ib3Uyv9"
      }
    },
    {
      "cell_type": "code",
      "source": [
        "# Single assignment\n",
        "x = 10  # Assigns the value 10 to the variable x\n",
        "\n",
        "# Multiple assignments\n",
        "x, y = 5, 10  # Assigns 5 to x and 10 to y\n",
        "\n",
        "# Chained assignment\n",
        "a = b = c = 20  # Assigns 20 to all three variables\n",
        "\n",
        "# Swapping variables\n",
        "a, b = b, a  # Swaps the values of a and b\n",
        "\n",
        "# Reassignment with different types\n",
        "x = 10  # x is an integer\n",
        "x = \"Hello\"  # x is now a string"
      ],
      "metadata": {
        "id": "1D0zGYmMU3xG"
      },
      "execution_count": 10,
      "outputs": []
    },
    {
      "cell_type": "markdown",
      "source": [
        "Dynamic typing:"
      ],
      "metadata": {
        "id": "9zncnN4fVBzj"
      }
    },
    {
      "cell_type": "code",
      "source": [
        "x = 10 #x is an integer\n",
        "x = \"Asalamualikum\"\n",
        "#Now x is a string"
      ],
      "metadata": {
        "id": "7rX37HsfVDhE"
      },
      "execution_count": null,
      "outputs": []
    },
    {
      "cell_type": "markdown",
      "source": [
        "### **Variables in Python**\n",
        "\n",
        "**Definition:**\n",
        "\n",
        "* A variable in Python is a symbolic name that refers to an object or value. It acts as a placeholder to store data that can be used and manipulated throughout your code.\n",
        "\n",
        "**Naming Conventions:**\n",
        "\n",
        "* Must start with a letter (a-z, A-Z) or an underscore (_).\n",
        "* Can contain letters, digits (0-9), and underscores.\n",
        "* Should not contain spaces or start with a digit.\n",
        "* Should not use Python reserved keywords (e.g., `if`, `for`, `while`).\n",
        "\n",
        "**Case Sensitivity:**\n",
        "\n",
        "* Python variable names are case-sensitive, meaning `Ahmad` and `ahmad` are considered different variables.\n",
        "\n",
        "**Scope:**\n",
        "\n",
        "* **Global Variables:** Defined outside functions, accessible throughout the code.\n",
        "* **Local Variables:** Defined inside functions, accessible only within that function.\n",
        "\n",
        "**Examples:**\n"
      ],
      "metadata": {
        "id": "L5zg6IjiWItS"
      }
    },
    {
      "cell_type": "code",
      "source": [
        "# Global variable\n",
        "global_var = \"I am global\"\n",
        "\n",
        "def my_function():\n",
        "    # Local variable\n",
        "    local_var = \"I am local\"\n",
        "    return local_var"
      ],
      "metadata": {
        "id": "ss1Tu7iAZyks"
      },
      "execution_count": 13,
      "outputs": []
    },
    {
      "cell_type": "markdown",
      "source": [
        "Example Usage:\n",
        "\n"
      ],
      "metadata": {
        "id": "DwBj65cbaFG_"
      }
    },
    {
      "cell_type": "code",
      "source": [
        "print(global_var)  # Output: I am global\n",
        "result = my_function()\n",
        "print(result)  # Output: I am local"
      ],
      "metadata": {
        "colab": {
          "base_uri": "https://localhost:8080/"
        },
        "id": "DaAS4MYHaMK6",
        "outputId": "224f1764-5ab3-4efb-baa8-6a913ce976d6"
      },
      "execution_count": 14,
      "outputs": [
        {
          "output_type": "stream",
          "name": "stdout",
          "text": [
            "I am global\n",
            "I am local\n"
          ]
        }
      ]
    },
    {
      "cell_type": "markdown",
      "source": [
        "### **PEMDAS**\n",
        "\n",
        "* **Parentheses:** Operations inside parentheses () are performed first.\n",
        "* **Exponents:** Next, Python evaluates exponents (powers and roots).\n",
        "* **Multiplication and Division:** Multiplication * and Division / are performed next, from left to right.\n",
        "* **Addition and Subtraction:** Finally, Addition + and Subtraction - are done, from left to right.\n",
        "* **Left-to-Right Associativity:** For operators at the same precedence level (like multiplication and division), Python evaluates them from left to right.\n",
        "\n",
        "**Examples:**\n",
        "\n",
        "**For Multiplication and Division:**\n"
      ],
      "metadata": {
        "id": "wLprcnVBamU5"
      }
    },
    {
      "cell_type": "code",
      "source": [
        "result = 6 * 2 / 3\n",
        "print(result)  # Output: 4"
      ],
      "metadata": {
        "colab": {
          "base_uri": "https://localhost:8080/"
        },
        "id": "DkGm9XJlaxEG",
        "outputId": "96543fe3-97e5-4b70-a8c0-a069d37451b8"
      },
      "execution_count": 15,
      "outputs": [
        {
          "output_type": "stream",
          "name": "stdout",
          "text": [
            "4.0\n"
          ]
        }
      ]
    },
    {
      "cell_type": "markdown",
      "source": [
        "For Addition and Subtraction:"
      ],
      "metadata": {
        "id": "AAzg7h9wa2GI"
      }
    },
    {
      "cell_type": "code",
      "source": [
        "result = 10 - 2 + 5\n",
        "print(result)  # Output: 13"
      ],
      "metadata": {
        "id": "LAJI0FT4a3FI"
      },
      "execution_count": null,
      "outputs": []
    },
    {
      "cell_type": "markdown",
      "source": [
        "## **DATA TYPES**\n",
        "\n",
        "* **Numerical Types:**\n",
        "    * `int`: Integers (e.g., 10, -5, 0)\n",
        "    * `float`: Floating-point numbers (e.g., 3.14, -2.5)\n",
        "    * `complex`: Complex numbers (e.g., 2+3j)\n",
        "\n",
        "* **Boolean Type:**\n",
        "    * `bool`: True or False values\n",
        "\n",
        "* **String Type:**\n",
        "    * `str`: Sequences of characters (e.g., \"Hello\", \"world\")\n",
        "\n",
        "* **Sequence Types:**\n",
        "    * `list`: Ordered collections of elements (e.g., [1, 2, 3])\n",
        "    * `tuple`: Immutable ordered collections (e.g., (1, 2, 3))\n",
        "    * `range`: Sequences of numbers (e.g., range(5))\n",
        "\n",
        "* **Mapping Type:**\n",
        "    * `dict`: Unordered key-value pairs (e.g., {\"name\": \"Alice\", \"age\": 25})\n",
        "\n",
        "* **Set Types:**\n",
        "    * `set`: Unordered collections of unique elements (e.g., {1, 2, 3})\n",
        "    * `frozenset`: Immutable sets (e.g., frozenset([1, 2, 3]))"
      ],
      "metadata": {
        "id": "dYlO31DQYNhp"
      }
    },
    {
      "cell_type": "markdown",
      "source": [
        "#### Numerical Types:"
      ],
      "metadata": {
        "id": "n-2LlWAAYxVt"
      }
    },
    {
      "cell_type": "code",
      "source": [
        "# Integer\n",
        "age = 25\n",
        "print(type(age))  # Output: <class 'int'>\n",
        "\n",
        "# Float\n",
        "pi = 3.14159\n",
        "print(type(pi))  # Output: <class 'float'>\n",
        "\n",
        "# Complex\n",
        "complex_number = 2 + 3j\n",
        "print(type(complex_number))  # Output: <class 'complex'>"
      ],
      "metadata": {
        "id": "DfnMWHpBYzo8"
      },
      "execution_count": null,
      "outputs": []
    },
    {
      "cell_type": "markdown",
      "source": [
        "#### Boolean Type:"
      ],
      "metadata": {
        "id": "c3jMD85VY4r0"
      }
    },
    {
      "cell_type": "code",
      "source": [
        "is_student = True\n",
        "print(type(is_student))  # Output: <class 'bool'>"
      ],
      "metadata": {
        "id": "mvH6FmPcY7it"
      },
      "execution_count": null,
      "outputs": []
    },
    {
      "cell_type": "markdown",
      "source": [
        "#### String Type:"
      ],
      "metadata": {
        "id": "QSKypYj7Y8-s"
      }
    },
    {
      "cell_type": "code",
      "source": [
        "name = \"Alice\"\n",
        "message = \"Hello, world!\"\n",
        "print(type(name))  # Output: <class 'str'>\n",
        "print(type(message))  # Output: <class 'str'>"
      ],
      "metadata": {
        "id": "GOc5rV7HZBpn"
      },
      "execution_count": null,
      "outputs": []
    },
    {
      "cell_type": "markdown",
      "source": [
        "#### Sequence Types:"
      ],
      "metadata": {
        "id": "HxCYVpOmZGmb"
      }
    },
    {
      "cell_type": "code",
      "source": [
        "numbers = [1, 2, 3, 4, 5]\n",
        "print(type(numbers))  # Output: <class 'list'>\n",
        "\n",
        "tuple = (1, 2, 3)\n",
        "print(type(tuple))  # Output: <class 'tuple'>\n",
        "\n",
        "range_obj = range(5)\n",
        "print(type(range_obj))  # Output: <class 'range'>"
      ],
      "metadata": {
        "id": "CCp4Yol0ZJps"
      },
      "execution_count": null,
      "outputs": []
    },
    {
      "cell_type": "markdown",
      "source": [
        "#### Mapping Type:"
      ],
      "metadata": {
        "id": "owvK-8jTZOgD"
      }
    },
    {
      "cell_type": "code",
      "source": [
        "person = {\"name\": \"Alice\", \"age\": 25, \"city\": \"New York\"}\n",
        "print(type(person))  # Output: <class 'dict'>"
      ],
      "metadata": {
        "id": "vaFbwvujZOJr"
      },
      "execution_count": null,
      "outputs": []
    },
    {
      "cell_type": "markdown",
      "source": [
        "#### Set Types:"
      ],
      "metadata": {
        "id": "LULIBt9OZSj7"
      }
    },
    {
      "cell_type": "code",
      "source": [
        "set = {1, 2, 3}\n",
        "print(type(set))  # Output: <class 'set'>\n",
        "\n",
        "frozenset = frozenset([1, 2, 3])\n",
        "print(type(frozenset))  # Output: <class 'frozenset'>"
      ],
      "metadata": {
        "id": "L5SylqsvZOF8"
      },
      "execution_count": null,
      "outputs": []
    },
    {
      "cell_type": "markdown",
      "source": [
        "### **Binary Types in Python**\n",
        "\n",
        "Python provides three built-in data types for working with binary data:\n",
        "\n",
        "1. **bytes:** Immutable sequence of bytes (8-bit values). Each element in a bytes object is an integer in the range [0, 255].\n",
        "2. **bytearray:** Mutable sequence of bytes (8-bit values). Similar to bytes, but elements can be modified.\n",
        "3. **memoryview:** A view into a contiguous block of memory, providing efficient access to binary data.\n",
        "\n",
        "**Key Points:**\n",
        "\n",
        "* **Creation:**\n",
        "    - `bytes`: Create using a sequence of integers or a string prefixed with `b`.\n",
        "    - `bytearray`: Create using a sequence of integers or a string prefixed with `b`.\n",
        "    - `memoryview`: Create using a `bytes` or `bytearray` object.\n",
        "* **Operations:**\n",
        "    - Slicing, indexing, concatenation, repetition, and other sequence operations.\n",
        "    - Conversion to and from other data types (e.g., strings, integers).\n",
        "* **Usage:**\n",
        "    - Working with binary files\n",
        "    - Network communication\n",
        "    - Low-level data manipulation\n",
        "\n",
        "**Example:**\n",
        "\n"
      ],
      "metadata": {
        "id": "hvy4wsx6b92Y"
      }
    },
    {
      "cell_type": "code",
      "source": [
        "\n",
        "# Creating bytes and bytearray objects\n",
        "byte_data = b\"Hello, world!\"\n",
        "bytearray_data = bytearray(b\"Hello, world!\")\n",
        "\n",
        "# Accessing elements\n",
        "print(byte_data[0])  # Output: 72 (ASCII code for 'H')\n",
        "print(bytearray_data[0])  # Output: 72 (ASCII code for 'H')\n",
        "\n",
        "# Modifying bytearray\n",
        "bytearray_data[0] = 75\n",
        "print(bytearray_data)  # Output: b'Kello, world!'\n",
        "\n",
        "# Creating a memoryview\n",
        "memory_view = memoryview(byte_data)\n",
        "print(memory_view[0])  # Output: 72 (ASCII code for 'H')"
      ],
      "metadata": {
        "colab": {
          "base_uri": "https://localhost:8080/"
        },
        "id": "d2HIG5HjcIzU",
        "outputId": "8d9d3dae-89e8-4ce3-9383-5093c84067ce"
      },
      "execution_count": 16,
      "outputs": [
        {
          "output_type": "stream",
          "name": "stdout",
          "text": [
            "72\n",
            "72\n",
            "bytearray(b'Kello, world!')\n",
            "72\n"
          ]
        }
      ]
    },
    {
      "cell_type": "markdown",
      "source": [
        "### **Mutable Data Types**\n",
        "From the above mentioned datatypes we have 4 mutable data types the rest of the mentioned data types are immutable. Below are those `4 mutable data types`:\n",
        "\n",
        "- List\n",
        "- Set\n",
        "- Dictionary\n",
        "- Bytearray\n"
      ],
      "metadata": {
        "id": "lgHSYR09cQ0W"
      }
    }
  ]
}